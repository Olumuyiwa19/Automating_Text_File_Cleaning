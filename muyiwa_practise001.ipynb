 {
  "nbformat": 4,
  "nbformat_minor": 0,
  "metadata": {
    "kernelspec": {
      "display_name": "Python 3",
      "language": "python",
      "name": "python3"
    },
    "language_info": {
      "codemirror_mode": {
        "name": "ipython",
        "version": 3
      },
      "file_extension": ".py",
      "mimetype": "text/x-python",
      "name": "python",
      "nbconvert_exporter": "python",
      "pygments_lexer": "ipython3",
      "version": "3.7.3"
    },
    "colab": {
      "name": "muyiwa_practise001.ipynb",
      "version": "0.3.2",
      "provenance": [],
      "include_colab_link": true
    }
  },
  "cells": [
    {
      "cell_type": "markdown",
      "metadata": {
        "id": "view-in-github",
        "colab_type": "text"
      },
      "source": [
        "<a href=\"https://colab.research.google.com/github/Olumuyiwa19/Hello-World/blob/master/muyiwa_practise001.ipynb\" target=\"_parent\"><img src=\"https://colab.research.google.com/assets/colab-badge.svg\" alt=\"Open In Colab\"/></a>"
      ]
    },
    {
      "cell_type": "code",
      "metadata": {
        "id": "Gothjex2ZcpS",
        "colab_type": "code",
        "colab": {}
      },
      "source": [
        "# List of movies dictionaries:\n",
        "\n",
        "movies = [\n",
        "{\n",
        "\"name\": \"Usual Suspects\", \n",
        "\"imdb\": 7.0,\n",
        "\"category\": \"Thriller\"\n",
        "},\n",
        "{\n",
        "\"name\": \"Hitman\",\n",
        "\"imdb\": 6.3,\n",
        "\"category\": \"Action\"\n",
        "},\n",
        "{\n",
        "\"name\": \"Dark Knight\",\n",
        "\"imdb\": 9.0,\n",
        "\"category\": \"Adventure\"\n",
        "},\n",
        "{\n",
        "\"name\": \"The Help\",\n",
        "\"imdb\": 8.0,\n",
        "\"category\": \"Drama\"\n",
        "},\n",
        "{\n",
        "\"name\": \"The Choice\",\n",
        "\"imdb\": 6.2,\n",
        "\"category\": \"Romance\"\n",
        "},\n",
        "{\n",
        "\"name\": \"Colonia\",\n",
        "\"imdb\": 7.4,\n",
        "\"category\": \"Romance\"\n",
        "},\n",
        "{\n",
        "\"name\": \"Love\",\n",
        "\"imdb\": 6.0,\n",
        "\"category\": \"Romance\"\n",
        "},\n",
        "{\n",
        "\"name\": \"Bride Wars\",\n",
        "\"imdb\": 5.4,\n",
        "\"category\": \"Romance\"\n",
        "},\n",
        "{\n",
        "\"name\": \"AlphaJet\",\n",
        "\"imdb\": 3.2,\n",
        "\"category\": \"War\"\n",
        "},\n",
        "{\n",
        "\"name\": \"Ringing Crime\",\n",
        "\"imdb\": 4.0,\n",
        "\"category\": \"Crime\"\n",
        "},\n",
        "{\n",
        "\"name\": \"Joking muck\",\n",
        "\"imdb\": 7.2,\n",
        "\"category\": \"Comedy\"\n",
        "},\n",
        "{\n",
        "\"name\": \"What is the name\",\n",
        "\"imdb\": 9.2,\n",
        "\"category\": \"Suspense\"\n",
        "},\n",
        "{\n",
        "\"name\": \"Detective\",\n",
        "\"imdb\": 7.0,\n",
        "\"category\": \"Suspense\"\n",
        "},\n",
        "{\n",
        "\"name\": \"Exam\",\n",
        "\"imdb\": 4.2,\n",
        "\"category\": \"Thriller\"\n",
        "},\n",
        "{\n",
        "\"name\": \"We Two\",\n",
        "\"imdb\": 7.2,\n",
        "\"category\": \"Romance\"\n",
        "}\n",
        "]"
      ],
      "execution_count": 0,
      "outputs": []
    },
    {
      "cell_type": "code",
      "metadata": {
        "id": "Q-VxDKSmZcpb",
        "colab_type": "code",
        "outputId": "e0cd8aeb-56ff-479a-d8bd-b3c23dcf9672",
        "colab": {
          "base_uri": "https://localhost:8080/",
          "height": 272
        }
      },
      "source": [
        "movies"
      ],
      "execution_count": 0,
      "outputs": [
        {
          "output_type": "execute_result",
          "data": {
            "text/plain": [
              "[{'category': 'Thriller', 'imdb': 7.0, 'name': 'Usual Suspects'},\n",
              " {'category': 'Action', 'imdb': 6.3, 'name': 'Hitman'},\n",
              " {'category': 'Adventure', 'imdb': 9.0, 'name': 'Dark Knight'},\n",
              " {'category': 'Drama', 'imdb': 8.0, 'name': 'The Help'},\n",
              " {'category': 'Romance', 'imdb': 6.2, 'name': 'The Choice'},\n",
              " {'category': 'Romance', 'imdb': 7.4, 'name': 'Colonia'},\n",
              " {'category': 'Romance', 'imdb': 6.0, 'name': 'Love'},\n",
              " {'category': 'Romance', 'imdb': 5.4, 'name': 'Bride Wars'},\n",
              " {'category': 'War', 'imdb': 3.2, 'name': 'AlphaJet'},\n",
              " {'category': 'Crime', 'imdb': 4.0, 'name': 'Ringing Crime'},\n",
              " {'category': 'Comedy', 'imdb': 7.2, 'name': 'Joking muck'},\n",
              " {'category': 'Suspense', 'imdb': 9.2, 'name': 'What is the name'},\n",
              " {'category': 'Suspense', 'imdb': 7.0, 'name': 'Detective'},\n",
              " {'category': 'Thriller', 'imdb': 4.2, 'name': 'Exam'},\n",
              " {'category': 'Romance', 'imdb': 7.2, 'name': 'We Two'}]"
            ]
          },
          "metadata": {
            "tags": []
          },
          "execution_count": 4
        }
      ]
    },
    {
      "cell_type": "code",
      "metadata": {
        "id": "YM75mShAZcpl",
        "colab_type": "code",
        "outputId": "4e7589a4-cb1a-457d-88a5-5f2a5525c641",
        "colab": {
          "base_uri": "https://localhost:8080/",
          "height": 51
        }
      },
      "source": [
        "def imd_rating_above_average(movies):\n",
        "    if movies['imdb']>5.5:\n",
        "        return True\n",
        "    else:\n",
        "        return False\n",
        "    \n",
        "print (movies[8])\n",
        "print (imd_rating_above_average(movies[8]))\n",
        "    \n"
      ],
      "execution_count": 0,
      "outputs": [
        {
          "output_type": "stream",
          "text": [
            "{'name': 'AlphaJet', 'imdb': 3.2, 'category': 'War'}\n",
            "False\n"
          ],
          "name": "stdout"
        }
      ]
    },
    {
      "cell_type": "code",
      "metadata": {
        "id": "9teXKArNZcps",
        "colab_type": "code",
        "outputId": "927e32d8-718e-4942-dded-9d8f3d4503ce",
        "colab": {
          "base_uri": "https://localhost:8080/",
          "height": 51
        }
      },
      "source": [
        "\n",
        "def movies_category_over_avg(movies, category):\n",
        "    overall_average = []\n",
        "    category_average = []\n",
        "    \n",
        "    \n",
        "    for movie in movies:\n",
        "        # creates a list of all the imdb scores\n",
        "        overall_average.append(movie['imdb'])\n",
        "        # creates a list of all imdb scores that match the category argument\n",
        "        if movie['category'] == category:\n",
        "            category_average.append(movie['imdb'])\n",
        "            \n",
        "    # uses imbd scores list to manually calculate datasets mean    \n",
        "    overall_average = sum(overall_average)/len(overall_average)\n",
        "    # catch to identify and respond to invalid categories.  \n",
        "    if len(category_average) == 0:\n",
        "        print ('no movies in specified category:', category)\n",
        "        return False\n",
        "    # else valid category, calculate mean\n",
        "    else:\n",
        "        category_average = sum(category_average)/len(category_average)\n",
        "        # compare category and overall means\n",
        "        if category_average > overall_average:\n",
        "            return True\n",
        "        else:\n",
        "            return False\n",
        "\n",
        "print (movies_category_over_avg(movies, 'Thriller'))\n",
        "print (movies_category_over_avg(movies, 'Suspense'))"
      ],
      "execution_count": 0,
      "outputs": [
        {
          "output_type": "stream",
          "text": [
            "False\n",
            "True\n"
          ],
          "name": "stdout"
        }
      ]
    },
    {
      "cell_type": "code",
      "metadata": {
        "id": "6yZcTWCLZcpz",
        "colab_type": "code",
        "outputId": "09716782-f6be-4e71-86d9-6af2eb389e43",
        "colab": {
          "base_uri": "https://localhost:8080/",
          "height": 34
        }
      },
      "source": [
        "def top_rated_score_movies(movies,score):\n",
        "    top_rated = []\n",
        "    for my_list in movies:\n",
        "        if my_list['imdb'] >= score:\n",
        "            top_rated.append(my_list)\n",
        "    return top_rated\n",
        "    \n",
        "print (score_greater_subset(movies, 9))"
      ],
      "execution_count": 0,
      "outputs": [
        {
          "output_type": "stream",
          "text": [
            "[{'name': 'Dark Knight', 'imdb': 9.0, 'category': 'Adventure'}, {'name': 'What is the name', 'imdb': 9.2, 'category': 'Suspense'}]\n"
          ],
          "name": "stdout"
        }
      ]
    },
    {
      "cell_type": "code",
      "metadata": {
        "id": "7v61X85OZcp7",
        "colab_type": "code",
        "outputId": "e59ed26a-ace7-4f6a-9768-ae6b78cf71cd",
        "colab": {
          "base_uri": "https://localhost:8080/",
          "height": 1000
        }
      },
      "source": [
        "#install pandas data reader to extract yahoo finance data and import it to my code \n",
        "!pip install pandas-datareader\n",
        "import pandas_datareader as pdr\n",
        "from datetime import datetime\n",
        "#get Ajusted Closing price data for Nokia\n",
        "NOK = pdr.get_data_yahoo(symbols='NOK', start=datetime(2019, 1, 1), end=datetime(2019, 9, 1))\n",
        "print(NOK['Adj Close'])\n"
      ],
      "execution_count": 0,
      "outputs": [
        {
          "output_type": "stream",
          "text": [
            "Requirement already satisfied: pandas-datareader in /usr/local/lib/python3.6/dist-packages (0.7.4)\n",
            "Requirement already satisfied: wrapt in /usr/local/lib/python3.6/dist-packages (from pandas-datareader) (1.11.2)\n",
            "Requirement already satisfied: pandas>=0.19.2 in /usr/local/lib/python3.6/dist-packages (from pandas-datareader) (0.24.2)\n",
            "Requirement already satisfied: lxml in /usr/local/lib/python3.6/dist-packages (from pandas-datareader) (4.2.6)\n",
            "Requirement already satisfied: requests>=2.3.0 in /usr/local/lib/python3.6/dist-packages (from pandas-datareader) (2.21.0)\n",
            "Requirement already satisfied: pytz>=2011k in /usr/local/lib/python3.6/dist-packages (from pandas>=0.19.2->pandas-datareader) (2018.9)\n",
            "Requirement already satisfied: numpy>=1.12.0 in /usr/local/lib/python3.6/dist-packages (from pandas>=0.19.2->pandas-datareader) (1.16.5)\n",
            "Requirement already satisfied: python-dateutil>=2.5.0 in /usr/local/lib/python3.6/dist-packages (from pandas>=0.19.2->pandas-datareader) (2.5.3)\n",
            "Requirement already satisfied: idna<2.9,>=2.5 in /usr/local/lib/python3.6/dist-packages (from requests>=2.3.0->pandas-datareader) (2.8)\n",
            "Requirement already satisfied: chardet<3.1.0,>=3.0.2 in /usr/local/lib/python3.6/dist-packages (from requests>=2.3.0->pandas-datareader) (3.0.4)\n",
            "Requirement already satisfied: certifi>=2017.4.17 in /usr/local/lib/python3.6/dist-packages (from requests>=2.3.0->pandas-datareader) (2019.6.16)\n",
            "Requirement already satisfied: urllib3<1.25,>=1.21.1 in /usr/local/lib/python3.6/dist-packages (from requests>=2.3.0->pandas-datareader) (1.24.3)\n",
            "Requirement already satisfied: six>=1.5 in /usr/local/lib/python3.6/dist-packages (from python-dateutil>=2.5.0->pandas>=0.19.2->pandas-datareader) (1.12.0)\n",
            "Date\n",
            "2019-01-02    5.621834\n",
            "2019-01-03    5.455334\n",
            "2019-01-04    5.807923\n",
            "2019-01-07    5.896070\n",
            "2019-01-08    6.023394\n",
            "2019-01-09    6.082159\n",
            "2019-01-10    6.013599\n",
            "2019-01-11    5.954835\n",
            "2019-01-14    5.896070\n",
            "2019-01-15    5.925453\n",
            "2019-01-16    5.827511\n",
            "2019-01-17    5.856894\n",
            "2019-01-18    5.984218\n",
            "2019-01-22    5.847099\n",
            "2019-01-23    5.925453\n",
            "2019-01-24    6.033188\n",
            "2019-01-25    6.464130\n",
            "2019-01-28    6.356394\n",
            "2019-01-29    6.415160\n",
            "2019-01-30    6.434748\n",
            "2019-01-31    6.219276\n",
            "2019-02-01    6.003806\n",
            "2019-02-04    5.935246\n",
            "2019-02-05    5.915658\n",
            "2019-02-06    5.925453\n",
            "2019-02-07    5.837305\n",
            "2019-02-08    6.033188\n",
            "2019-02-11    6.082159\n",
            "2019-02-12    6.111541\n",
            "2019-02-13    6.189894\n",
            "                ...   \n",
            "2019-07-22    5.070044\n",
            "2019-07-23    5.119556\n",
            "2019-07-24    5.129458\n",
            "2019-07-25    5.644385\n",
            "2019-07-26    5.664190\n",
            "2019-07-29    5.650000\n",
            "2019-07-30    5.470000\n",
            "2019-07-31    5.410000\n",
            "2019-08-01    5.370000\n",
            "2019-08-02    5.400000\n",
            "2019-08-05    5.290000\n",
            "2019-08-06    5.350000\n",
            "2019-08-07    5.320000\n",
            "2019-08-08    5.400000\n",
            "2019-08-09    5.410000\n",
            "2019-08-12    5.310000\n",
            "2019-08-13    5.330000\n",
            "2019-08-14    5.120000\n",
            "2019-08-15    5.060000\n",
            "2019-08-16    5.170000\n",
            "2019-08-19    5.230000\n",
            "2019-08-20    5.150000\n",
            "2019-08-21    5.170000\n",
            "2019-08-22    5.070000\n",
            "2019-08-23    5.010000\n",
            "2019-08-26    5.000000\n",
            "2019-08-27    4.940000\n",
            "2019-08-28    4.890000\n",
            "2019-08-29    4.920000\n",
            "2019-08-30    4.960000\n",
            "Name: Adj Close, Length: 168, dtype: float64\n"
          ],
          "name": "stdout"
        }
      ]
    }
  ]
}